{
 "cells": [
  {
   "cell_type": "code",
   "execution_count": 1,
   "metadata": {},
   "outputs": [],
   "source": [
    "from anthropic import AnthropicBedrock\n",
    "import boto3\n",
    "import fitz  # PyMuPDF\n",
    "import instructor\n",
    "import json\n",
    "import numpy as np\n",
    "import pandas as pd\n",
    "from pathlib import Path\n",
    "from pydantic import BaseModel, field_validator\n",
    "from tqdm.notebook import tqdm\n",
    "from typing import List\n",
    "import base64\n",
    "import requests"
   ]
  },
  {
   "cell_type": "code",
   "execution_count": 2,
   "metadata": {},
   "outputs": [],
   "source": [
    "# calude has a 200k context window\n",
    "def return_text(urls, max_length=200_000):\n",
    "    txt = \"\"\n",
    "    for url in urls:\n",
    "        response = requests.get(url)\n",
    "        bytes_data = response.content\n",
    "        try:\n",
    "            document = fitz.Document(stream=bytes_data)\n",
    "            for page_num in range(len(document)):\n",
    "                page = document.load_page(page_num)\n",
    "                text = page.get_text()\n",
    "                txt += text\n",
    "                if len(txt) > max_length: \n",
    "                    return \"\" # TODO decide what to do with \"long cases\"\n",
    "        except:\n",
    "            return \"\" # TODO handle PDF errors\n",
    "    return txt"
   ]
  },
  {
   "cell_type": "code",
   "execution_count": 3,
   "metadata": {},
   "outputs": [],
   "source": [
    "class Merger(BaseModel):\n",
    "    company_1: str\n",
    "    company_2: str\n",
    "    concern: str\n",
    "\n",
    "    @field_validator('concern')\n",
    "    @classmethod\n",
    "    def check_allowed_values(cls, v):\n",
    "        allowed_concerns = [\"Competitors\", \"Consumers\"]\n",
    "        if v not in allowed_concerns:\n",
    "            raise ValueError(f'Value must be one of {allowed_concerns}')\n",
    "        return v"
   ]
  },
  {
   "cell_type": "code",
   "execution_count": 4,
   "metadata": {},
   "outputs": [],
   "source": [
    "system_prompt = \"\"\"\n",
    "You are an AI assistant that helps competition lawyers to review and classify announcements about reviews of mergers between two companies.\n",
    "You are an expert in UK merger control and consumer protection regulation. \n",
    "You can distinguish between mergers announcements where the concern is about:\n",
    "* Competitors: the impact on competitors of the merging companies; \n",
    "* Consumers: the impacts to clients of the merging companies or consumers, even if indirectly, such as from increases in price, reduction in choice, or reduction in quality. \n",
    "\"\"\"\n",
    "\n",
    "def generate_user_prompt(text):\n",
    "    prompt = f\"\"\"\n",
    "    Extract the company names.\n",
    "    Classify the merger announcement concern using the categories: \n",
    "    * Competitors\n",
    "    * Consumers\n",
    "    Return only one label.\n",
    "    Return an empty label if the merger concern is neither.\n",
    "\n",
    "    Here is the merger announcement.\n",
    "\n",
    "    <announcement>\n",
    "    {text}\n",
    "    </announcement>\n",
    "    \"\"\"\n",
    "    # Please output the category label in <output></output> tags in your <response>.\n",
    "    return prompt\n",
    "\n",
    "# assistant_prompt=\"<response><output>\""
   ]
  },
  {
   "cell_type": "code",
   "execution_count": 5,
   "metadata": {},
   "outputs": [],
   "source": [
    "def label_case(system_prompt, user_prompt):\n",
    "    # note that client.chat.completions.create will also work\n",
    "    resp = client.messages.create(\n",
    "        model=\"anthropic.claude-3-haiku-20240307-v1:0\",\n",
    "        max_tokens=1024,\n",
    "        system=system_prompt,\n",
    "        messages=[\n",
    "            {\n",
    "                \"role\": \"user\",\n",
    "                \"content\": user_prompt,\n",
    "            }\n",
    "        ],\n",
    "        response_model=Merger,\n",
    "        max_retries=1,\n",
    "    )\n",
    "    _ = resp.__dict__.pop(\"_raw_response\")\n",
    "    return resp.__dict__"
   ]
  },
  {
   "cell_type": "code",
   "execution_count": 6,
   "metadata": {},
   "outputs": [],
   "source": [
    "# client = boto3.client('bedrock', region_name=\"eu-west-2\")\n",
    "# response = client.list_foundation_models()\n",
    "# models = response.get('modelSummaries', [])\n",
    "# for model in models:\n",
    "#     print(f\"Model ID: {model['modelId']}, Model Name: {model['modelName']}\")"
   ]
  },
  {
   "cell_type": "code",
   "execution_count": 7,
   "metadata": {},
   "outputs": [],
   "source": [
    "file_path = Path(\"\").resolve().parent / \"data\"\n",
    "\n",
    "df_cases = pd.read_parquet(file_path / \"cases.parquet\")\n",
    "\n",
    "df_files = pd.read_parquet(file_path / \"files.parquet\")"
   ]
  },
  {
   "cell_type": "code",
   "execution_count": 8,
   "metadata": {},
   "outputs": [],
   "source": [
    "# filter to cases with less than 6 files - some have hundreds\n",
    "small_cases = df_files['id'].value_counts()[df_files['id'].value_counts() <= 5].index.values"
   ]
  },
  {
   "cell_type": "code",
   "execution_count": 9,
   "metadata": {},
   "outputs": [],
   "source": [
    "df_files_filtered = df_files.loc[df_files[\"id\"].isin(small_cases)]"
   ]
  },
  {
   "cell_type": "code",
   "execution_count": 10,
   "metadata": {},
   "outputs": [],
   "source": [
    "client = instructor.from_anthropic(AnthropicBedrock())"
   ]
  },
  {
   "cell_type": "code",
   "execution_count": 12,
   "metadata": {},
   "outputs": [],
   "source": [
    "import time"
   ]
  },
  {
   "cell_type": "code",
   "execution_count": 13,
   "metadata": {},
   "outputs": [
    {
     "data": {
      "application/vnd.jupyter.widget-view+json": {
       "model_id": "424c73f6f36446aa9ed654355d428043",
       "version_major": 2,
       "version_minor": 0
      },
      "text/plain": [
       "  0%|          | 0/500 [00:00<?, ?it/s]"
      ]
     },
     "metadata": {},
     "output_type": "display_data"
    },
    {
     "name": "stdout",
     "output_type": "stream",
     "text": [
      "MuPDF error: format error: No default Layer config\n",
      "\n",
      "MuPDF error: format error: No default Layer config\n",
      "\n",
      "MuPDF error: format error: No default Layer config\n",
      "\n",
      "MuPDF error: format error: No default Layer config\n",
      "\n",
      "MuPDF error: format error: No default Layer config\n",
      "\n",
      "MuPDF error: format error: No default Layer config\n",
      "\n",
      "MuPDF error: format error: No default Layer config\n",
      "\n",
      "MuPDF error: format error: No default Layer config\n",
      "\n",
      "MuPDF error: format error: No default Layer config\n",
      "\n",
      "MuPDF error: format error: No default Layer config\n",
      "\n",
      "MuPDF error: format error: No default Layer config\n",
      "\n",
      "MuPDF error: format error: No default Layer config\n",
      "\n",
      "MuPDF error: format error: No default Layer config\n",
      "\n",
      "MuPDF error: format error: No default Layer config\n",
      "\n",
      "MuPDF error: format error: No default Layer config\n",
      "\n",
      "MuPDF error: format error: No default Layer config\n",
      "\n",
      "MuPDF error: format error: No default Layer config\n",
      "\n",
      "MuPDF error: format error: No default Layer config\n",
      "\n",
      "MuPDF error: format error: No default Layer config\n",
      "\n",
      "MuPDF error: format error: No default Layer config\n",
      "\n",
      "MuPDF error: format error: No default Layer config\n",
      "\n",
      "MuPDF error: format error: No default Layer config\n",
      "\n",
      "MuPDF error: format error: No default Layer config\n",
      "\n",
      "MuPDF error: format error: No default Layer config\n",
      "\n",
      "MuPDF error: format error: No default Layer config\n",
      "\n",
      "MuPDF error: format error: No default Layer config\n",
      "\n",
      "MuPDF error: format error: No default Layer config\n",
      "\n",
      "MuPDF error: format error: No default Layer config\n",
      "\n",
      "MuPDF error: format error: No default Layer config\n",
      "\n",
      "MuPDF error: format error: No default Layer config\n",
      "\n",
      "MuPDF error: format error: No default Layer config\n",
      "\n",
      "MuPDF error: format error: No default Layer config\n",
      "\n",
      "MuPDF error: format error: No default Layer config\n",
      "\n",
      "MuPDF error: format error: No default Layer config\n",
      "\n",
      "MuPDF error: format error: No default Layer config\n",
      "\n"
     ]
    }
   ],
   "source": [
    "labels = []\n",
    "for i in tqdm(small_cases[0:500]):\n",
    "    time.sleep(2)\n",
    "    # print(\"Case:\", i)\n",
    "    urls = df_files.loc[df_files[\"id\"] == i, \"link\"].to_list()\n",
    "    text = return_text(urls)\n",
    "    if len(text) == 0:\n",
    "        # print(\"Too long, or errored\")\n",
    "        continue\n",
    "    # print(len(text))\n",
    "    user_prompt = generate_user_prompt(text)\n",
    "    label = label_case(system_prompt, user_prompt)\n",
    "    label[\"id\"] = int(i)\n",
    "    label[\"n_files\"] = len(urls)\n",
    "    label[\"n_chars\"] = len(text)\n",
    "    labels.append(label)\n",
    "    # print(\"Labelled\")\n",
    "    "
   ]
  },
  {
   "cell_type": "code",
   "execution_count": 14,
   "metadata": {},
   "outputs": [],
   "source": [
    "df_labels = pd.DataFrame(labels)"
   ]
  },
  {
   "cell_type": "code",
   "execution_count": 15,
   "metadata": {},
   "outputs": [
    {
     "data": {
      "text/html": [
       "<div>\n",
       "<style scoped>\n",
       "    .dataframe tbody tr th:only-of-type {\n",
       "        vertical-align: middle;\n",
       "    }\n",
       "\n",
       "    .dataframe tbody tr th {\n",
       "        vertical-align: top;\n",
       "    }\n",
       "\n",
       "    .dataframe thead th {\n",
       "        text-align: right;\n",
       "    }\n",
       "</style>\n",
       "<table border=\"1\" class=\"dataframe\">\n",
       "  <thead>\n",
       "    <tr style=\"text-align: right;\">\n",
       "      <th></th>\n",
       "      <th>company_1</th>\n",
       "      <th>company_2</th>\n",
       "      <th>concern</th>\n",
       "      <th>id</th>\n",
       "      <th>n_files</th>\n",
       "      <th>n_chars</th>\n",
       "    </tr>\n",
       "  </thead>\n",
       "  <tbody>\n",
       "    <tr>\n",
       "      <th>0</th>\n",
       "      <td>BBC Worldwide Limited</td>\n",
       "      <td>Channel Four Television Corporation</td>\n",
       "      <td>Competitors</td>\n",
       "      <td>1035</td>\n",
       "      <td>5</td>\n",
       "      <td>30591</td>\n",
       "    </tr>\n",
       "    <tr>\n",
       "      <th>1</th>\n",
       "      <td>HSH Cold Stores Limited</td>\n",
       "      <td>Associated Cold Stores &amp; Transport Limited</td>\n",
       "      <td>Competitors</td>\n",
       "      <td>40</td>\n",
       "      <td>5</td>\n",
       "      <td>118268</td>\n",
       "    </tr>\n",
       "    <tr>\n",
       "      <th>2</th>\n",
       "      <td>CALA 1 Limited</td>\n",
       "      <td>Banner Homes Group Plc</td>\n",
       "      <td>Competitors</td>\n",
       "      <td>578</td>\n",
       "      <td>5</td>\n",
       "      <td>67333</td>\n",
       "    </tr>\n",
       "    <tr>\n",
       "      <th>3</th>\n",
       "      <td>Atlantic SFDT SA</td>\n",
       "      <td>Woolamai Holdings Jersey Limited</td>\n",
       "      <td>Competitors</td>\n",
       "      <td>493</td>\n",
       "      <td>5</td>\n",
       "      <td>65570</td>\n",
       "    </tr>\n",
       "    <tr>\n",
       "      <th>4</th>\n",
       "      <td>Henderson Retail Limited</td>\n",
       "      <td>Martin McColl Limited</td>\n",
       "      <td>Competitors</td>\n",
       "      <td>316</td>\n",
       "      <td>5</td>\n",
       "      <td>82244</td>\n",
       "    </tr>\n",
       "  </tbody>\n",
       "</table>\n",
       "</div>"
      ],
      "text/plain": [
       "                  company_1                                   company_2  \\\n",
       "0     BBC Worldwide Limited         Channel Four Television Corporation   \n",
       "1   HSH Cold Stores Limited  Associated Cold Stores & Transport Limited   \n",
       "2            CALA 1 Limited                      Banner Homes Group Plc   \n",
       "3          Atlantic SFDT SA            Woolamai Holdings Jersey Limited   \n",
       "4  Henderson Retail Limited                       Martin McColl Limited   \n",
       "\n",
       "       concern    id  n_files  n_chars  \n",
       "0  Competitors  1035        5    30591  \n",
       "1  Competitors    40        5   118268  \n",
       "2  Competitors   578        5    67333  \n",
       "3  Competitors   493        5    65570  \n",
       "4  Competitors   316        5    82244  "
      ]
     },
     "execution_count": 15,
     "metadata": {},
     "output_type": "execute_result"
    }
   ],
   "source": [
    "df_labels.head()"
   ]
  },
  {
   "cell_type": "code",
   "execution_count": 18,
   "metadata": {},
   "outputs": [],
   "source": [
    "df_labels = df_labels.loc[df_labels[\"concern\"].isin([\"Competitors\", \"Consumers\"]), :]"
   ]
  },
  {
   "cell_type": "code",
   "execution_count": 19,
   "metadata": {},
   "outputs": [
    {
     "data": {
      "text/plain": [
       "concern\n",
       "Competitors    428\n",
       "Consumers       30\n",
       "Name: count, dtype: int64"
      ]
     },
     "execution_count": 19,
     "metadata": {},
     "output_type": "execute_result"
    }
   ],
   "source": [
    "df_labels.value_counts(\"concern\")"
   ]
  },
  {
   "cell_type": "code",
   "execution_count": 20,
   "metadata": {},
   "outputs": [],
   "source": [
    "df_labels.to_parquet(file_path / \"labels.parquet\")"
   ]
  },
  {
   "cell_type": "code",
   "execution_count": null,
   "metadata": {},
   "outputs": [],
   "source": []
  }
 ],
 "metadata": {
  "kernelspec": {
   "display_name": "Python 3",
   "language": "python",
   "name": "python3"
  },
  "language_info": {
   "codemirror_mode": {
    "name": "ipython",
    "version": 3
   },
   "file_extension": ".py",
   "mimetype": "text/x-python",
   "name": "python",
   "nbconvert_exporter": "python",
   "pygments_lexer": "ipython3",
   "version": "3.10.13"
  }
 },
 "nbformat": 4,
 "nbformat_minor": 2
}
