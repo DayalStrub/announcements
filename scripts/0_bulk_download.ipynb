{
 "cells": [
  {
   "cell_type": "code",
   "execution_count": 1,
   "metadata": {},
   "outputs": [],
   "source": [
    "from bs4 import BeautifulSoup\n",
    "from dataclasses import dataclass, field\n",
    "import pandas as pd\n",
    "import requests\n",
    "from tqdm.notebook import tqdm\n",
    "from typing import List"
   ]
  },
  {
   "cell_type": "code",
   "execution_count": 2,
   "metadata": {},
   "outputs": [],
   "source": [
    "def get_soup(url: str):\n",
    "    response = requests.get(url)\n",
    "    response.raise_for_status()\n",
    "    soup = BeautifulSoup(response.content, 'html.parser')\n",
    "    return soup"
   ]
  },
  {
   "cell_type": "code",
   "execution_count": 3,
   "metadata": {},
   "outputs": [],
   "source": [
    "def get_cases(soup): \n",
    "    cases_list = soup.find('ul', class_='gem-c-document-list')\n",
    "    if cases_list:\n",
    "        for li in cases_list.find_all('li'):\n",
    "            a_tag = li.find('a')\n",
    "            if a_tag:\n",
    "                title_and_url = {\n",
    "                    \"title\": a_tag.get_text(strip=True),\n",
    "                    \"link\": f\"https://www.gov.uk{a_tag['href']}\"\n",
    "                }\n",
    "                # cases defined in script/loop\n",
    "                cases.append(title_and_url)\n",
    "    pass"
   ]
  },
  {
   "cell_type": "code",
   "execution_count": 4,
   "metadata": {},
   "outputs": [],
   "source": [
    "@dataclass\n",
    "class Case:\n",
    "    url: str = \"\"\n",
    "    files: List[str] = field(default_factory=list)\n",
    "    meta: dict = field(default_factory=dict)\n",
    "\n",
    "    def __post_init__(self):\n",
    "        soup = self._get_soup()\n",
    "        self._extract_attributes(soup)\n",
    "        self._extract_files(soup)\n",
    "\n",
    "    def _get_soup(self) -> BeautifulSoup:\n",
    "        response = requests.get(self.url)\n",
    "        response.raise_for_status()\n",
    "        soup = BeautifulSoup(response.content, 'html.parser')\n",
    "        return soup\n",
    "    \n",
    "    def _extract_files(self, soup) -> None:\n",
    "        pdf_links = []\n",
    "        for a_tag in soup.find_all('a', href=True):\n",
    "            if a_tag['href'].endswith('.pdf'):\n",
    "                title_and_url = {\n",
    "                        \"title\": a_tag.get_text(strip=True),\n",
    "                        \"link\": a_tag['href']\n",
    "                    }\n",
    "                pdf_links.append(title_and_url)\n",
    "        self.files = pdf_links\n",
    "\n",
    "    def _extract_attributes(self, soup) -> None:\n",
    "        dl_element = soup.find('dl', class_='app-c-important-metadata__list')\n",
    "        metadata_dict = {}\n",
    "        if dl_element:\n",
    "            dt_elements = dl_element.find_all('dt', class_='app-c-important-metadata__term')\n",
    "            dd_elements = dl_element.find_all('dd', class_='app-c-important-metadata__definition')\n",
    "            for dt, dd in zip(dt_elements, dd_elements):\n",
    "                key = dt.get_text(strip=True).rstrip(':').lower().replace(' ', '_')\n",
    "                value = dd.get_text(strip=True)\n",
    "                metadata_dict[key] = value\n",
    "        self.meta = metadata_dict"
   ]
  },
  {
   "cell_type": "markdown",
   "metadata": {},
   "source": [
    "## Parameters"
   ]
  },
  {
   "cell_type": "code",
   "execution_count": 5,
   "metadata": {},
   "outputs": [],
   "source": [
    "url = \"https://www.gov.uk/cma-cases?case_state%5B%5D=closed&case_type%5B%5D=mergers\""
   ]
  },
  {
   "cell_type": "markdown",
   "metadata": {},
   "source": [
    "## Get number of pages"
   ]
  },
  {
   "cell_type": "code",
   "execution_count": 6,
   "metadata": {},
   "outputs": [],
   "source": [
    "soup = get_soup(url)"
   ]
  },
  {
   "cell_type": "code",
   "execution_count": 7,
   "metadata": {},
   "outputs": [
    {
     "data": {
      "text/plain": [
       "38"
      ]
     },
     "execution_count": 7,
     "metadata": {},
     "output_type": "execute_result"
    }
   ],
   "source": [
    "span_element = soup.find('span', class_='govuk-pagination__link-label')\n",
    "if span_element:\n",
    "    text = span_element.get_text(strip=True)\n",
    "    parts = text.split(' of ')\n",
    "    if len(parts) == 2:\n",
    "        num_pages = int(parts[1])\n",
    "    else:\n",
    "        raise(\"Text format is not as expected.\")\n",
    "num_pages"
   ]
  },
  {
   "cell_type": "markdown",
   "metadata": {},
   "source": [
    "## Get cases"
   ]
  },
  {
   "cell_type": "code",
   "execution_count": 8,
   "metadata": {},
   "outputs": [],
   "source": [
    "cases = []"
   ]
  },
  {
   "cell_type": "markdown",
   "metadata": {},
   "source": [
    "### Page 1"
   ]
  },
  {
   "cell_type": "code",
   "execution_count": 9,
   "metadata": {},
   "outputs": [],
   "source": [
    "get_cases(soup)"
   ]
  },
  {
   "cell_type": "markdown",
   "metadata": {},
   "source": [
    "### Other pages"
   ]
  },
  {
   "cell_type": "code",
   "execution_count": 10,
   "metadata": {},
   "outputs": [],
   "source": [
    "for i in range(2, num_pages + 1):\n",
    "    url_i = f\"{url}&page={i}\"\n",
    "    soup = get_soup(url_i)\n",
    "    get_cases(soup)"
   ]
  },
  {
   "cell_type": "code",
   "execution_count": 11,
   "metadata": {},
   "outputs": [
    {
     "data": {
      "text/plain": [
       "1900"
      ]
     },
     "execution_count": 11,
     "metadata": {},
     "output_type": "execute_result"
    }
   ],
   "source": [
    "len(cases)"
   ]
  },
  {
   "cell_type": "code",
   "execution_count": 12,
   "metadata": {},
   "outputs": [],
   "source": [
    "for index, item in enumerate(cases):\n",
    "    item[\"id\"] = index"
   ]
  },
  {
   "cell_type": "markdown",
   "metadata": {},
   "source": [
    "## Get case info"
   ]
  },
  {
   "cell_type": "code",
   "execution_count": 13,
   "metadata": {},
   "outputs": [
    {
     "data": {
      "application/vnd.jupyter.widget-view+json": {
       "model_id": "033aee6ed50f44bf9fe59ee053ca6bc3",
       "version_major": 2,
       "version_minor": 0
      },
      "text/plain": [
       "  0%|          | 0/1900 [00:00<?, ?it/s]"
      ]
     },
     "metadata": {},
     "output_type": "display_data"
    }
   ],
   "source": [
    "files = []\n",
    "\n",
    "for c in tqdm(cases):\n",
    "    # print(c)\n",
    "    case = Case(c['link'])\n",
    "    cases[c[\"id\"]].update(case.meta)\n",
    "    for f in case.files:\n",
    "        f[\"id\"] = c[\"id\"]\n",
    "        files.append(f)"
   ]
  },
  {
   "cell_type": "code",
   "execution_count": 14,
   "metadata": {},
   "outputs": [
    {
     "data": {
      "text/html": [
       "<div>\n",
       "<style scoped>\n",
       "    .dataframe tbody tr th:only-of-type {\n",
       "        vertical-align: middle;\n",
       "    }\n",
       "\n",
       "    .dataframe tbody tr th {\n",
       "        vertical-align: top;\n",
       "    }\n",
       "\n",
       "    .dataframe thead th {\n",
       "        text-align: right;\n",
       "    }\n",
       "</style>\n",
       "<table border=\"1\" class=\"dataframe\">\n",
       "  <thead>\n",
       "    <tr style=\"text-align: right;\">\n",
       "      <th></th>\n",
       "      <th>title</th>\n",
       "      <th>link</th>\n",
       "      <th>id</th>\n",
       "      <th>case_type</th>\n",
       "      <th>case_state</th>\n",
       "      <th>market_sector</th>\n",
       "      <th>opened</th>\n",
       "      <th>closed</th>\n",
       "      <th>outcome</th>\n",
       "    </tr>\n",
       "  </thead>\n",
       "  <tbody>\n",
       "    <tr>\n",
       "      <th>0</th>\n",
       "      <td>Scanpole / C&amp;G merger inquiry</td>\n",
       "      <td>https://www.gov.uk/cma-cases/scanpole-slash-c-...</td>\n",
       "      <td>0</td>\n",
       "      <td>Mergers</td>\n",
       "      <td>Closed</td>\n",
       "      <td>Building and construction</td>\n",
       "      <td>25 June 2024</td>\n",
       "      <td>14 August 2024</td>\n",
       "      <td>NaN</td>\n",
       "    </tr>\n",
       "    <tr>\n",
       "      <th>1</th>\n",
       "      <td>Eurofins / Cellmark merger inquiry</td>\n",
       "      <td>https://www.gov.uk/cma-cases/eurofins-slash-ce...</td>\n",
       "      <td>1</td>\n",
       "      <td>Mergers</td>\n",
       "      <td>Closed</td>\n",
       "      <td>Distribution and service industries,Fire, poli...</td>\n",
       "      <td>18 July 2024</td>\n",
       "      <td>2 August 2024</td>\n",
       "      <td>Mergers - phase 1 clearance</td>\n",
       "    </tr>\n",
       "    <tr>\n",
       "      <th>2</th>\n",
       "      <td>Thermo Fisher Scientific / Olink merger inquiry</td>\n",
       "      <td>https://www.gov.uk/cma-cases/thermo-fisher-sci...</td>\n",
       "      <td>2</td>\n",
       "      <td>Mergers</td>\n",
       "      <td>Closed</td>\n",
       "      <td>Healthcare and medical equipment</td>\n",
       "      <td>2 February 2024</td>\n",
       "      <td>8 July 2024</td>\n",
       "      <td>Mergers - phase 1 clearance</td>\n",
       "    </tr>\n",
       "    <tr>\n",
       "      <th>3</th>\n",
       "      <td>AlphaTheta / Serato merger inquiry</td>\n",
       "      <td>https://www.gov.uk/cma-cases/alphatheta-slash-...</td>\n",
       "      <td>3</td>\n",
       "      <td>Mergers</td>\n",
       "      <td>Closed</td>\n",
       "      <td>Recreation and leisure</td>\n",
       "      <td>23 January 2024</td>\n",
       "      <td>22 July 2024</td>\n",
       "      <td>Mergers - phase 2 cancellation</td>\n",
       "    </tr>\n",
       "    <tr>\n",
       "      <th>4</th>\n",
       "      <td>TGS/PGS UK merger inquiry</td>\n",
       "      <td>https://www.gov.uk/cma-cases/tgs-slash-pgs-uk-...</td>\n",
       "      <td>4</td>\n",
       "      <td>Mergers</td>\n",
       "      <td>Closed</td>\n",
       "      <td>Oil and gas refining and petrochemicals</td>\n",
       "      <td>12 April 2024</td>\n",
       "      <td>9 July 2024</td>\n",
       "      <td>NaN</td>\n",
       "    </tr>\n",
       "  </tbody>\n",
       "</table>\n",
       "</div>"
      ],
      "text/plain": [
       "                                             title  \\\n",
       "0                    Scanpole / C&G merger inquiry   \n",
       "1               Eurofins / Cellmark merger inquiry   \n",
       "2  Thermo Fisher Scientific / Olink merger inquiry   \n",
       "3               AlphaTheta / Serato merger inquiry   \n",
       "4                        TGS/PGS UK merger inquiry   \n",
       "\n",
       "                                                link  id case_type case_state  \\\n",
       "0  https://www.gov.uk/cma-cases/scanpole-slash-c-...   0   Mergers     Closed   \n",
       "1  https://www.gov.uk/cma-cases/eurofins-slash-ce...   1   Mergers     Closed   \n",
       "2  https://www.gov.uk/cma-cases/thermo-fisher-sci...   2   Mergers     Closed   \n",
       "3  https://www.gov.uk/cma-cases/alphatheta-slash-...   3   Mergers     Closed   \n",
       "4  https://www.gov.uk/cma-cases/tgs-slash-pgs-uk-...   4   Mergers     Closed   \n",
       "\n",
       "                                       market_sector           opened  \\\n",
       "0                          Building and construction     25 June 2024   \n",
       "1  Distribution and service industries,Fire, poli...     18 July 2024   \n",
       "2                   Healthcare and medical equipment  2 February 2024   \n",
       "3                             Recreation and leisure  23 January 2024   \n",
       "4            Oil and gas refining and petrochemicals    12 April 2024   \n",
       "\n",
       "           closed                         outcome  \n",
       "0  14 August 2024                             NaN  \n",
       "1   2 August 2024     Mergers - phase 1 clearance  \n",
       "2     8 July 2024     Mergers - phase 1 clearance  \n",
       "3    22 July 2024  Mergers - phase 2 cancellation  \n",
       "4     9 July 2024                             NaN  "
      ]
     },
     "execution_count": 14,
     "metadata": {},
     "output_type": "execute_result"
    }
   ],
   "source": [
    "df_cases = pd.DataFrame(cases)\n",
    "df_cases.head()"
   ]
  },
  {
   "cell_type": "code",
   "execution_count": 15,
   "metadata": {},
   "outputs": [
    {
     "data": {
      "text/plain": [
       "1900"
      ]
     },
     "execution_count": 15,
     "metadata": {},
     "output_type": "execute_result"
    }
   ],
   "source": [
    "len(df_cases)"
   ]
  },
  {
   "cell_type": "code",
   "execution_count": 16,
   "metadata": {},
   "outputs": [
    {
     "data": {
      "text/html": [
       "<div>\n",
       "<style scoped>\n",
       "    .dataframe tbody tr th:only-of-type {\n",
       "        vertical-align: middle;\n",
       "    }\n",
       "\n",
       "    .dataframe tbody tr th {\n",
       "        vertical-align: top;\n",
       "    }\n",
       "\n",
       "    .dataframe thead th {\n",
       "        text-align: right;\n",
       "    }\n",
       "</style>\n",
       "<table border=\"1\" class=\"dataframe\">\n",
       "  <thead>\n",
       "    <tr style=\"text-align: right;\">\n",
       "      <th></th>\n",
       "      <th>title</th>\n",
       "      <th>link</th>\n",
       "      <th>id</th>\n",
       "    </tr>\n",
       "  </thead>\n",
       "  <tbody>\n",
       "    <tr>\n",
       "      <th>0</th>\n",
       "      <td>Commencement notice (PDF, 89KB)</td>\n",
       "      <td>https://assets.publishing.service.gov.uk/media...</td>\n",
       "      <td>0</td>\n",
       "    </tr>\n",
       "    <tr>\n",
       "      <th>1</th>\n",
       "      <td>Commencement notice (PDF, 80KB)</td>\n",
       "      <td>https://assets.publishing.service.gov.uk/media...</td>\n",
       "      <td>1</td>\n",
       "    </tr>\n",
       "    <tr>\n",
       "      <th>2</th>\n",
       "      <td>Full text decision (PDF, 469KB)</td>\n",
       "      <td>https://assets.publishing.service.gov.uk/media...</td>\n",
       "      <td>2</td>\n",
       "    </tr>\n",
       "    <tr>\n",
       "      <th>3</th>\n",
       "      <td>Commencement notice (PDF, 90KB)</td>\n",
       "      <td>https://assets.publishing.service.gov.uk/media...</td>\n",
       "      <td>2</td>\n",
       "    </tr>\n",
       "    <tr>\n",
       "      <th>4</th>\n",
       "      <td>Administrative timetable (PDF, 121KB)</td>\n",
       "      <td>https://assets.publishing.service.gov.uk/media...</td>\n",
       "      <td>3</td>\n",
       "    </tr>\n",
       "  </tbody>\n",
       "</table>\n",
       "</div>"
      ],
      "text/plain": [
       "                                   title  \\\n",
       "0        Commencement notice (PDF, 89KB)   \n",
       "1        Commencement notice (PDF, 80KB)   \n",
       "2        Full text decision (PDF, 469KB)   \n",
       "3        Commencement notice (PDF, 90KB)   \n",
       "4  Administrative timetable (PDF, 121KB)   \n",
       "\n",
       "                                                link  id  \n",
       "0  https://assets.publishing.service.gov.uk/media...   0  \n",
       "1  https://assets.publishing.service.gov.uk/media...   1  \n",
       "2  https://assets.publishing.service.gov.uk/media...   2  \n",
       "3  https://assets.publishing.service.gov.uk/media...   2  \n",
       "4  https://assets.publishing.service.gov.uk/media...   3  "
      ]
     },
     "execution_count": 16,
     "metadata": {},
     "output_type": "execute_result"
    }
   ],
   "source": [
    "df_files = pd.DataFrame(files)\n",
    "df_files.head()"
   ]
  },
  {
   "cell_type": "code",
   "execution_count": 17,
   "metadata": {},
   "outputs": [
    {
     "data": {
      "text/plain": [
       "7562"
      ]
     },
     "execution_count": 17,
     "metadata": {},
     "output_type": "execute_result"
    }
   ],
   "source": [
    "len(df_files)"
   ]
  },
  {
   "cell_type": "markdown",
   "metadata": {},
   "source": [
    "## Save data"
   ]
  },
  {
   "cell_type": "code",
   "execution_count": 18,
   "metadata": {},
   "outputs": [],
   "source": [
    "df_cases.to_parquet(\"../data/cases.parquet\")"
   ]
  },
  {
   "cell_type": "code",
   "execution_count": 19,
   "metadata": {},
   "outputs": [],
   "source": [
    "df_files.to_parquet(\"../data/files.parquet\")"
   ]
  },
  {
   "cell_type": "code",
   "execution_count": null,
   "metadata": {},
   "outputs": [],
   "source": []
  }
 ],
 "metadata": {
  "kernelspec": {
   "display_name": "Python 3",
   "language": "python",
   "name": "python3"
  },
  "language_info": {
   "codemirror_mode": {
    "name": "ipython",
    "version": 3
   },
   "file_extension": ".py",
   "mimetype": "text/x-python",
   "name": "python",
   "nbconvert_exporter": "python",
   "pygments_lexer": "ipython3",
   "version": "3.10.13"
  }
 },
 "nbformat": 4,
 "nbformat_minor": 2
}
